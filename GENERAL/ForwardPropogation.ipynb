{
 "cells": [
  {
   "cell_type": "code",
   "execution_count": 5,
   "metadata": {},
   "outputs": [],
   "source": [
    "import numpy as np"
   ]
  },
  {
   "cell_type": "markdown",
   "metadata": {},
   "source": [
    "## Model of a neural network"
   ]
  },
  {
   "cell_type": "markdown",
   "metadata": {},
   "source": [
    "#### x1, x2 = inputs\n",
    "#### w1, w2, w3...w6 = weights\n",
    "#### b11, b12, b2 = biases\n",
    "#### z11 = (x1 * w1) + (x2 * w2) + b11 ; a11 = f(z11)\n",
    "#### z12 = (x1 * w3) + (x2 * w4) + b12 ; a12 = f(z12)\n",
    "#### f(x) is a sigmoid function, 1/1 + e ^ -x, ranges values from 0 to 1 (needs to be applied at every node)"
   ]
  },
  {
   "cell_type": "markdown",
   "metadata": {},
   "source": [
    "<img src=\"http://cocl.us/neural_network_example\" alt=\"Neural Network Example\" width=600px>\n",
    "\n"
   ]
  },
  {
   "cell_type": "markdown",
   "metadata": {},
   "source": [
    "##### Generating random weights and biases"
   ]
  },
  {
   "cell_type": "code",
   "execution_count": 6,
   "metadata": {},
   "outputs": [
    {
     "name": "stdout",
     "output_type": "stream",
     "text": [
      "Weights :  [0.1  0.73 0.66 0.77 0.73 0.5 ]\n",
      "Biases :  [0.27 0.29 0.72]\n"
     ]
    }
   ],
   "source": [
    "weights = np.around(np.random.uniform(size = 6), 2)\n",
    "biases = np.around(np.random.uniform(size = 3), 2)\n",
    "\n",
    "print(\"Weights : \", weights)\n",
    "print(\"Biases : \", biases)"
   ]
  },
  {
   "cell_type": "markdown",
   "metadata": {},
   "source": [
    "##### Given inputs"
   ]
  },
  {
   "cell_type": "code",
   "execution_count": 7,
   "metadata": {},
   "outputs": [],
   "source": [
    "x1 = 0.5\n",
    "x2 = 0.85"
   ]
  },
  {
   "cell_type": "markdown",
   "metadata": {},
   "source": [
    "##### Sigmoid activation function"
   ]
  },
  {
   "cell_type": "code",
   "execution_count": 13,
   "metadata": {},
   "outputs": [],
   "source": [
    "def sigmoid(x):\n",
    "    output = 1 / (1 + np.exp(-x))\n",
    "    return output"
   ]
  },
  {
   "cell_type": "markdown",
   "metadata": {},
   "source": [
    "##### Calculating answers"
   ]
  },
  {
   "cell_type": "code",
   "execution_count": 21,
   "metadata": {},
   "outputs": [
    {
     "name": "stdout",
     "output_type": "stream",
     "text": [
      "0.9405 1.2745\n"
     ]
    }
   ],
   "source": [
    "z11 = (x1 * weights[0]) + (x2 * weights[1]) + biases[0]\n",
    "z12 = (x1 * weights[2]) + (x2 * weights[3]) + biases[1]\n",
    "\n",
    "print(z11, z12)"
   ]
  },
  {
   "cell_type": "code",
   "execution_count": 22,
   "metadata": {},
   "outputs": [
    {
     "name": "stdout",
     "output_type": "stream",
     "text": [
      "0.7192006440212747 0.7815121004509163\n"
     ]
    }
   ],
   "source": [
    "a11 = sigmoid(z11)\n",
    "a12 = sigmoid(z12)\n",
    "\n",
    "print(a11, a12)"
   ]
  },
  {
   "cell_type": "code",
   "execution_count": 23,
   "metadata": {},
   "outputs": [
    {
     "name": "stdout",
     "output_type": "stream",
     "text": [
      "1.6357725203609887\n"
     ]
    }
   ],
   "source": [
    "z2 = (a11 * weights[4]) + (a12 * weights[5]) + biases[2]\n",
    "\n",
    "print(z2)"
   ]
  },
  {
   "cell_type": "code",
   "execution_count": 25,
   "metadata": {},
   "outputs": [
    {
     "name": "stdout",
     "output_type": "stream",
     "text": [
      "0.8369588824353161\n"
     ]
    }
   ],
   "source": [
    "a2 = sigmoid(z2)\n",
    "\n",
    "print(a2)"
   ]
  },
  {
   "cell_type": "markdown",
   "metadata": {},
   "source": [
    "<img src=\"http://cocl.us/general_neural_network\" alt=\"Neural Network General\" width=600px>\n",
    "\n"
   ]
  }
 ],
 "metadata": {
  "kernelspec": {
   "display_name": "Python 3",
   "language": "python",
   "name": "python3"
  },
  "language_info": {
   "codemirror_mode": {
    "name": "ipython",
    "version": 3
   },
   "file_extension": ".py",
   "mimetype": "text/x-python",
   "name": "python",
   "nbconvert_exporter": "python",
   "pygments_lexer": "ipython3",
   "version": "3.8.3"
  }
 },
 "nbformat": 4,
 "nbformat_minor": 4
}
