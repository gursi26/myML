{
 "cells": [
  {
   "cell_type": "code",
   "execution_count": 233,
   "metadata": {},
   "outputs": [],
   "source": [
    "import numpy as np\n",
    "import pandas as pd\n",
    "import matplotlib.pyplot as plt\n",
    "import seaborn as sns"
   ]
  },
  {
   "cell_type": "code",
   "execution_count": 234,
   "metadata": {},
   "outputs": [],
   "source": [
    "from keras import Input\n",
    "from keras.models import Sequential\n",
    "from keras.layers import Dense, Flatten\n",
    "from keras.layers.convolutional import Conv2D, MaxPooling2D\n",
    "from keras.datasets import mnist\n",
    "from keras.utils import to_categorical"
   ]
  },
  {
   "cell_type": "code",
   "execution_count": 235,
   "metadata": {},
   "outputs": [],
   "source": [
    "(train_x, train_y), (test_x, test_y) = mnist.load_data()"
   ]
  },
  {
   "cell_type": "code",
   "execution_count": 236,
   "metadata": {},
   "outputs": [
    {
     "data": {
      "image/png": "[encoded data removed]",
      "text/plain": [
       "<Figure size 1440x864 with 15 Axes>"
      ]
     },
     "metadata": {
      "needs_background": "light"
     },
     "output_type": "display_data"
    }
   ],
   "source": [
    "fig, ax = plt.subplots(nrows = 3, ncols = 5, figsize = (20,12))\n",
    "\n",
    "image_counter = 0\n",
    "for var1 in ax :\n",
    "    for var2 in var1 :\n",
    "        var2.imshow(train_x[image_counter])\n",
    "        var2.axis(False)\n",
    "        image_counter += 1"
   ]
  },
  {
   "cell_type": "code",
   "execution_count": 237,
   "metadata": {},
   "outputs": [
    {
     "data": {
      "text/plain": [
       "array([5, 0, 4, 1, 9, 2, 1, 3, 1, 4, 3, 5, 3, 6, 1], dtype=uint8)"
      ]
     },
     "execution_count": 237,
     "metadata": {},
     "output_type": "execute_result"
    }
   ],
   "source": [
    "train_y[0:15]"
   ]
  },
  {
   "cell_type": "code",
   "execution_count": 238,
   "metadata": {},
   "outputs": [],
   "source": [
    "train_y = to_categorical(train_y)\n",
    "test_y = to_categorical(test_y)"
   ]
  },
  {
   "cell_type": "code",
   "execution_count": 239,
   "metadata": {},
   "outputs": [],
   "source": [
    "train_x = train_x.reshape(train_x.shape[0], 28, 28, 1)\n",
    "test_x = test_x.reshape(test_x.shape[0], 28, 28, 1)\n",
    "\n",
    "train_x = train_x / 256\n",
    "test_x = test_x / 256"
   ]
  },
  {
   "cell_type": "code",
   "execution_count": 240,
   "metadata": {},
   "outputs": [],
   "source": [
    "num_cats = train_y.shape[1]"
   ]
  },
  {
   "cell_type": "code",
   "execution_count": 241,
   "metadata": {},
   "outputs": [
    {
     "name": "stdout",
     "output_type": "stream",
     "text": [
      "Epoch 1/10\n",
      "300/300 [==============================] - 51s 171ms/step - loss: 0.1769 - accuracy: 0.9451 - val_loss: 0.0440 - val_accuracy: 0.9854\n",
      "Epoch 2/10\n",
      "300/300 [==============================] - 59s 197ms/step - loss: 0.0467 - accuracy: 0.9858 - val_loss: 0.0390 - val_accuracy: 0.9876\n",
      "Epoch 3/10\n",
      "300/300 [==============================] - 60s 201ms/step - loss: 0.0324 - accuracy: 0.9899 - val_loss: 0.0330 - val_accuracy: 0.9891\n",
      "Epoch 4/10\n",
      "300/300 [==============================] - 60s 200ms/step - loss: 0.0238 - accuracy: 0.9923 - val_loss: 0.0393 - val_accuracy: 0.9885\n",
      "Epoch 5/10\n",
      "300/300 [==============================] - 60s 199ms/step - loss: 0.0204 - accuracy: 0.9936 - val_loss: 0.0276 - val_accuracy: 0.9914\n",
      "Epoch 6/10\n",
      "300/300 [==============================] - 60s 198ms/step - loss: 0.0157 - accuracy: 0.9951 - val_loss: 0.0278 - val_accuracy: 0.9912\n",
      "Epoch 7/10\n",
      "300/300 [==============================] - 57s 189ms/step - loss: 0.0119 - accuracy: 0.9962 - val_loss: 0.0308 - val_accuracy: 0.9906\n",
      "Epoch 8/10\n",
      "300/300 [==============================] - 57s 189ms/step - loss: 0.0124 - accuracy: 0.9958 - val_loss: 0.0281 - val_accuracy: 0.9914\n",
      "Epoch 9/10\n",
      "300/300 [==============================] - 57s 190ms/step - loss: 0.0094 - accuracy: 0.9970 - val_loss: 0.0377 - val_accuracy: 0.9898\n",
      "Epoch 10/10\n",
      "300/300 [==============================] - 54s 179ms/step - loss: 0.0103 - accuracy: 0.9963 - val_loss: 0.0448 - val_accuracy: 0.9884\n"
     ]
    },
    {
     "data": {
      "text/plain": [
       "<tensorflow.python.keras.callbacks.History at 0x7fd061422d90>"
      ]
     },
     "execution_count": 241,
     "metadata": {},
     "output_type": "execute_result"
    }
   ],
   "source": [
    "model = Sequential()\n",
    "\n",
    "model.add(Input(shape = (28, 28, 1)))\n",
    "\n",
    "model.add(Conv2D(16, kernel_size = (5, 5), strides = (1,1), activation='relu'))\n",
    "model.add(MaxPooling2D(pool_size = (2,2), strides = (1,1)))\n",
    "# Convolutional layer with 16 filter, each of size 5,5 moving units 1,1\n",
    "# Pooling layer with size 2,2 moving 1,1 units at a time\n",
    "\n",
    "model.add(Conv2D(32, kernel_size = (5, 5), strides = (1,1), activation='relu'))\n",
    "model.add(MaxPooling2D(pool_size = (2,2), strides = (1,1)))\n",
    "\n",
    "model.add(Flatten())\n",
    "model.add(Dense(100, activation = 'relu'))\n",
    "model.add(Dense(100, activation = 'relu'))\n",
    "model.add(Dense(num_cats, activation = 'softmax'))\n",
    "\n",
    "model.compile(optimizer = 'adam', loss = 'categorical_crossentropy', metrics = ['accuracy'])\n",
    "model.fit(train_x, train_y, epochs = 10, batch_size = 200, validation_data = (test_x, test_y), verbose = 1)"
   ]
  },
  {
   "cell_type": "code",
   "execution_count": 242,
   "metadata": {},
   "outputs": [
    {
     "name": "stdout",
     "output_type": "stream",
     "text": [
      "313/313 [==============================] - 3s 8ms/step - loss: 0.0448 - accuracy: 0.9884\n"
     ]
    }
   ],
   "source": [
    "scores = model.evaluate(test_x, test_y, verbose = 1)"
   ]
  },
  {
   "cell_type": "code",
   "execution_count": 243,
   "metadata": {},
   "outputs": [
    {
     "name": "stdout",
     "output_type": "stream",
     "text": [
      "Accuracy : 98.84\n"
     ]
    }
   ],
   "source": [
    "print(\"Accuracy : %.2f\" %(scores[1] * 100))"
   ]
  },
  {
   "cell_type": "code",
   "execution_count": 254,
   "metadata": {},
   "outputs": [],
   "source": [
    "# model.save('digits_classifier.h5')"
   ]
  }
 ],
 "metadata": {
  "kernelspec": {
   "display_name": "Python 3",
   "language": "python",
   "name": "python3"
  },
  "language_info": {
   "codemirror_mode": {
    "name": "ipython",
    "version": 3
   },
   "file_extension": ".py",
   "mimetype": "text/x-python",
   "name": "python",
   "nbconvert_exporter": "python",
   "pygments_lexer": "ipython3",
   "version": "3.8.5"
  }
 },
 "nbformat": 4,
 "nbformat_minor": 4
}
