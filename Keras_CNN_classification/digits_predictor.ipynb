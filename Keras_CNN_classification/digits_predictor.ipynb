{
 "cells": [
  {
   "cell_type": "code",
   "execution_count": 6,
   "metadata": {},
   "outputs": [],
   "source": [
    "from tensorflow.keras.models import load_model\n",
    "from tensorflow.keras.preprocessing import image\n",
    "import matplotlib.pyplot as plt\n",
    "import os\n",
    "from skimage import io, color\n",
    "from skimage.transform import resize"
   ]
  },
  {
   "cell_type": "code",
   "execution_count": 3,
   "metadata": {},
   "outputs": [],
   "source": [
    "model_path = \"/users/gursi/desktop/ml/saved_models//digits_classifier.h5\"\n",
    "folder = '/users/gursi/desktop/ml/sample_sets/digits_sample'\n",
    "classes = [0,1,2,3,4,5,6,7,8,9]\n",
    "target_size = 28 "
   ]
  },
  {
   "cell_type": "code",
   "execution_count": 4,
   "metadata": {},
   "outputs": [],
   "source": [
    "pretrained_model = load_model(model_path)"
   ]
  },
  {
   "cell_type": "code",
   "execution_count": 7,
   "metadata": {},
   "outputs": [],
   "source": [
    "items = os.listdir(folder)\n",
    "images_arr = []\n",
    "\n",
    "for var1 in items :\n",
    "    img = color.rgb2gray(io.imread(folder + '/'+ var1)) \n",
    "    img = resize(img, (target_size, target_size), anti_aliasing = True)\n",
    "    img_arr = image.img_to_array(img).copy()\n",
    "    img_arr = img_arr/255.0\n",
    "    images_arr.append(img_arr)"
   ]
  },
  {
   "cell_type": "code",
   "execution_count": 10,
   "metadata": {},
   "outputs": [],
   "source": [
    "model_input = []\n",
    "for var3 in images_arr :\n",
    "    model_input.append(var3.reshape(1,target_size,target_size,1).copy())"
   ]
  },
  {
   "cell_type": "code",
   "execution_count": 11,
   "metadata": {},
   "outputs": [
    {
     "name": "stdout",
     "output_type": "stream",
     "text": [
      "[3, 3, 3, 3, 3]\n"
     ]
    }
   ],
   "source": [
    "preds = []\n",
    "\n",
    "for var4 in model_input :\n",
    "    prediction = pretrained_model.predict(var4)\n",
    "    pred_word = classes[prediction.argmax()]\n",
    "    preds.append(pred_word)\n",
    "\n",
    "print(preds)"
   ]
  },
  {
   "cell_type": "code",
   "execution_count": 12,
   "metadata": {},
   "outputs": [],
   "source": [
    "nrows = 0\n",
    "ncols = 4\n",
    "while True:\n",
    "    if nrows*ncols > len(preds):\n",
    "        break\n",
    "    nrows = nrows + 1"
   ]
  },
  {
   "cell_type": "code",
   "execution_count": 14,
   "metadata": {},
   "outputs": [
    {
     "data": {
      "image/png": "[encoded data removed]",
      "text/plain": [
       "<Figure size 1080x720 with 8 Axes>"
      ]
     },
     "metadata": {
      "needs_background": "light"
     },
     "output_type": "display_data"
    }
   ],
   "source": [
    "fig, ax = plt.subplots(nrows = nrows, ncols = ncols, figsize = (15,nrows*5))\n",
    "\n",
    "pic_counter = 0\n",
    "for var5 in ax :\n",
    "    for var6 in var5 :\n",
    "        \n",
    "        try :\n",
    "            var6.imshow(images_arr[pic_counter])\n",
    "            var6.set_title(preds[pic_counter], fontsize = 15)\n",
    "        except IndexError :\n",
    "            pass\n",
    "        \n",
    "        var6.axis(False)\n",
    "        pic_counter = pic_counter + 1"
   ]
  }
 ],
 "metadata": {
  "kernelspec": {
   "display_name": "Python 3",
   "language": "python",
   "name": "python3"
  },
  "language_info": {
   "codemirror_mode": {
    "name": "ipython",
    "version": 3
   },
   "file_extension": ".py",
   "mimetype": "text/x-python",
   "name": "python",
   "nbconvert_exporter": "python",
   "pygments_lexer": "ipython3",
   "version": "3.8.5"
  }
 },
 "nbformat": 4,
 "nbformat_minor": 4
}
