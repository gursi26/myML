{
 "metadata": {
  "language_info": {
   "codemirror_mode": {
    "name": "ipython",
    "version": 3
   },
   "file_extension": ".py",
   "mimetype": "text/x-python",
   "name": "python",
   "nbconvert_exporter": "python",
   "pygments_lexer": "ipython3",
   "version": "3.8.0-final"
  },
  "orig_nbformat": 2,
  "kernelspec": {
   "name": "python3",
   "display_name": "Python 3",
   "language": "python"
  }
 },
 "nbformat": 4,
 "nbformat_minor": 2,
 "cells": [
  {
   "cell_type": "code",
   "execution_count": 6,
   "metadata": {},
   "outputs": [],
   "source": [
    "import torch\n",
    "from torch import nn\n",
    "from torch import sigmoid"
   ]
  },
  {
   "cell_type": "code",
   "execution_count": 7,
   "metadata": {},
   "outputs": [],
   "source": [
    "class Net(nn.Module):\n",
    "\n",
    "    def __init__(self, insize, outsize):\n",
    "        super(Net,self).__init__()\n",
    "        self.linear1 = nn.Linear(insize, 10) # Out size here must be insize for next\n",
    "        self.linear2 = nn.Linear(10, outsize)\n",
    "\n",
    "    def forward(self,x):\n",
    "        x = sigmoid(self.linear1(x))\n",
    "        x = sigmoid(self.linear2(x))\n",
    "        return x"
   ]
  },
  {
   "cell_type": "code",
   "execution_count": 9,
   "metadata": {},
   "outputs": [
    {
     "output_type": "execute_result",
     "data": {
      "text/plain": [
       "OrderedDict([('linear1.weight',\n",
       "              tensor([[ 0.4937],\n",
       "                      [ 0.5724],\n",
       "                      [-0.8847],\n",
       "                      [ 0.9180],\n",
       "                      [-0.1888],\n",
       "                      [ 0.4445],\n",
       "                      [ 0.2585],\n",
       "                      [ 0.8823],\n",
       "                      [ 0.1166],\n",
       "                      [ 0.4176]])),\n",
       "             ('linear1.bias',\n",
       "              tensor([ 0.1460, -0.0453,  0.0891, -0.8785, -0.3157, -0.3682,  0.4554, -0.7251,\n",
       "                      -0.0475,  0.2597])),\n",
       "             ('linear2.weight',\n",
       "              tensor([[-0.2535, -0.1518,  0.2643, -0.2187,  0.3032,  0.0768,  0.1994,  0.1783,\n",
       "                       -0.1272, -0.2337]])),\n",
       "             ('linear2.bias', tensor([-0.3159]))])"
      ]
     },
     "metadata": {},
     "execution_count": 9
    }
   ],
   "source": [
    "model = Net(1,1)\n",
    "model.state_dict()"
   ]
  },
  {
   "source": [
    "The training process is identical to other models"
   ],
   "cell_type": "markdown",
   "metadata": {}
  }
 ]
}