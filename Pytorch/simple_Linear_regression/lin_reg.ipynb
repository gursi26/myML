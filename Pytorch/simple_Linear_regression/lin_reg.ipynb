{
 "cells": [
  {
   "cell_type": "code",
   "execution_count": 1,
   "metadata": {},
   "outputs": [],
   "source": [
    "import torch\n",
    "import torch.nn as nn\n",
    "import numpy as np\n",
    "from sklearn import datasets\n",
    "import matplotlib.pyplot as plt"
   ]
  },
  {
   "cell_type": "markdown",
   "metadata": {},
   "source": [
    "# Generating a sample dataset"
   ]
  },
  {
   "cell_type": "code",
   "execution_count": 38,
   "metadata": {},
   "outputs": [
    {
     "data": {
      "image/png": "[encoded data removed]",
      "text/plain": [
       "<Figure size 432x288 with 1 Axes>"
      ]
     },
     "metadata": {
      "needs_background": "light"
     },
     "output_type": "display_data"
    }
   ],
   "source": [
    "x, y = datasets.make_regression(n_samples = 200, n_features = 1, noise = 20, random_state = 2) \n",
    "x = x.astype(np.float32)\n",
    "y = y.astype(np.float32)\n",
    "\n",
    "plt.scatter(x, y)\n",
    "plt.show()"
   ]
  },
  {
   "cell_type": "code",
   "execution_count": 39,
   "metadata": {},
   "outputs": [],
   "source": [
    "x = torch.from_numpy(x)\n",
    "y = torch.from_numpy(y)"
   ]
  },
  {
   "cell_type": "code",
   "execution_count": 40,
   "metadata": {},
   "outputs": [
    {
     "name": "stdout",
     "output_type": "stream",
     "text": [
      "Shape before :  torch.Size([200, 1]) torch.Size([200])\n",
      "Shape after :  torch.Size([200, 1]) torch.Size([200, 1])\n"
     ]
    }
   ],
   "source": [
    "print(\"Shape before : \", x.shape, y.shape)\n",
    "y = y.view(y.shape[0], 1)\n",
    "\n",
    "print(\"Shape after : \", x.shape, y.shape)"
   ]
  },
  {
   "cell_type": "markdown",
   "metadata": {},
   "source": [
    "# Designing model"
   ]
  },
  {
   "cell_type": "code",
   "execution_count": 41,
   "metadata": {},
   "outputs": [],
   "source": [
    "model = nn.Linear(in_features = x.shape[1], out_features = y.shape[1])"
   ]
  },
  {
   "cell_type": "markdown",
   "metadata": {},
   "source": [
    "# Loss function and optimizer"
   ]
  },
  {
   "cell_type": "code",
   "execution_count": 42,
   "metadata": {},
   "outputs": [],
   "source": [
    "criterion = nn.MSELoss()\n",
    "optimizer = torch.optim.SGD(params = model.parameters(), lr = 0.01)"
   ]
  },
  {
   "cell_type": "markdown",
   "metadata": {},
   "source": [
    "# Training loop"
   ]
  },
  {
   "cell_type": "code",
   "execution_count": 44,
   "metadata": {},
   "outputs": [
    {
     "name": "stdout",
     "output_type": "stream",
     "text": [
      "Epoch 0\n",
      "Loss :  2051.2607421875\n",
      "Epoch 5\n",
      "Loss :  1887.3182373046875\n",
      "Epoch 10\n",
      "Loss :  1583.126220703125\n",
      "Epoch 15\n",
      "Loss :  1342.94482421875\n",
      "Epoch 20\n",
      "Loss :  1153.3048095703125\n",
      "Epoch 25\n",
      "Loss :  1003.5703735351562\n",
      "Epoch 30\n",
      "Loss :  885.3439331054688\n",
      "Epoch 35\n",
      "Loss :  791.9957885742188\n",
      "Epoch 40\n",
      "Loss :  718.29052734375\n",
      "Epoch 45\n",
      "Loss :  660.0946655273438\n",
      "Epoch 50\n",
      "Loss :  614.1448364257812\n",
      "Epoch 55\n",
      "Loss :  577.8641357421875\n",
      "Epoch 60\n",
      "Loss :  549.2177734375\n",
      "Epoch 65\n",
      "Loss :  526.599365234375\n",
      "Epoch 70\n",
      "Loss :  508.74041748046875\n",
      "Epoch 75\n",
      "Loss :  494.639404296875\n",
      "Epoch 80\n",
      "Loss :  483.505615234375\n",
      "Epoch 85\n",
      "Loss :  474.714599609375\n",
      "Epoch 90\n",
      "Loss :  467.7734680175781\n",
      "Epoch 95\n",
      "Loss :  462.2928771972656\n"
     ]
    }
   ],
   "source": [
    "epochs = 100\n",
    "\n",
    "for epoch in range(epochs):\n",
    "    \n",
    "    # forward pass, loss\n",
    "    yhat = model.forward(x)\n",
    "    loss = criterion(yhat, y)  #Predictions then actual\n",
    "    \n",
    "    if epoch % 5 == 0 : \n",
    "        print(f'Epoch {epoch}')\n",
    "        print(\"Loss : \", loss.item())\n",
    "    \n",
    "    # backpropogation\n",
    "    loss.backward()\n",
    "    \n",
    "    # updating parameters\n",
    "    optimizer.step()\n",
    "    \n",
    "    # Emptying the gradients\n",
    "    optimizer.zero_grad()"
   ]
  },
  {
   "cell_type": "markdown",
   "metadata": {},
   "source": [
    "# Evaluation"
   ]
  },
  {
   "cell_type": "code",
   "execution_count": 45,
   "metadata": {},
   "outputs": [
    {
     "data": {
      "image/png": "[encoded data removed]",
      "text/plain": [
       "<Figure size 432x288 with 1 Axes>"
      ]
     },
     "metadata": {
      "needs_background": "light"
     },
     "output_type": "display_data"
    }
   ],
   "source": [
    "to_plot_range_x = np.arange(x.min().item(), x.max().item(), 0.01).astype(np.float32)\n",
    "range_x = torch.from_numpy(to_plot_range_x).view(to_plot_range_x.shape[0], 1)\n",
    "\n",
    "predicted_y = model.forward(range_x)\n",
    "\n",
    "plt.scatter(x, y)\n",
    "plt.plot(range_x, predicted_y.detach().numpy(), linewidth = 3, c='r')\n",
    "plt.show()"
   ]
  }
 ],
 "metadata": {
  "kernelspec": {
   "display_name": "Python 3",
   "language": "python",
   "name": "python3"
  },
  "language_info": {
   "codemirror_mode": {
    "name": "ipython",
    "version": 3
   },
   "file_extension": ".py",
   "mimetype": "text/x-python",
   "name": "python",
   "nbconvert_exporter": "python",
   "pygments_lexer": "ipython3",
   "version": "3.8.0-final"
  }
 },
 "nbformat": 4,
 "nbformat_minor": 4
}