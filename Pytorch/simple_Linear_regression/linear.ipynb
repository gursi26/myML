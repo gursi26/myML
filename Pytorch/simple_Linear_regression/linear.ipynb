{
 "cells": [
  {
   "cell_type": "code",
   "execution_count": 1,
   "metadata": {},
   "outputs": [],
   "source": [
    "import torch"
   ]
  },
  {
   "cell_type": "code",
   "execution_count": 7,
   "metadata": {},
   "outputs": [
    {
     "data": {
      "text/plain": [
       "tensor(1., grad_fn=<AddBackward0>)"
      ]
     },
     "execution_count": 7,
     "metadata": {},
     "output_type": "execute_result"
    }
   ],
   "source": [
    "weight = torch.tensor(2.0, requires_grad = True)\n",
    "bias = torch.tensor(-1.0, requires_grad = True)\n",
    "\n",
    "def forward(x):\n",
    "    y = (x * weight) + bias\n",
    "    return y\n",
    "\n",
    "x = torch.tensor(1.0)\n",
    "yhat = forward(x)\n",
    "yhat"
   ]
  },
  {
   "cell_type": "code",
   "execution_count": 10,
   "metadata": {},
   "outputs": [],
   "source": [
    "from torch.nn import Linear\n",
    "# Initial slope and bias randomly initialized, setting of random seed"
   ]
  },
  {
   "cell_type": "code",
   "execution_count": 22,
   "metadata": {},
   "outputs": [
    {
     "name": "stdout",
     "output_type": "stream",
     "text": [
      "[Parameter containing:\n",
      "tensor([[0.5153]], requires_grad=True), Parameter containing:\n",
      "tensor([-0.4414], requires_grad=True)]\n",
      "\n",
      "Prediction :  tensor([0.0739], grad_fn=<AddBackward0>)\n"
     ]
    }
   ],
   "source": [
    "torch.manual_seed(1)\n",
    "\n",
    "model = Linear(in_features = 1, out_features = 1)\n",
    "# number of predictors and number of targets. NOT NUMBER OF ROWS.\n",
    "\n",
    "print(list(model.parameters()))\n",
    "# Returns parameters slope and bias\n",
    "\n",
    "x = torch.tensor([1.0])\n",
    "yhat = model(x)\n",
    "print()\n",
    "print('Prediction : ', yhat)\n",
    "\n",
    "# The model has not been trained yet"
   ]
  },
  {
   "cell_type": "markdown",
   "metadata": {},
   "source": [
    "## Using a class to create custom model"
   ]
  },
  {
   "cell_type": "code",
   "execution_count": 23,
   "metadata": {},
   "outputs": [],
   "source": [
    "import torch.nn as nn"
   ]
  },
  {
   "cell_type": "code",
   "execution_count": 26,
   "metadata": {},
   "outputs": [],
   "source": [
    "# Methods from parent class can be accessed in this class\n",
    "class LR(nn.Module):\n",
    "    \n",
    "    def __init__(self, in_size, out_size):\n",
    "        super(LR, self).__init__() \n",
    "        self.linear = nn.Linear(in_size, out_size)\n",
    "        \n",
    "    def forward(self, x):\n",
    "        yhat = self.linear(x)\n",
    "        return yhat"
   ]
  },
  {
   "cell_type": "code",
   "execution_count": 32,
   "metadata": {},
   "outputs": [
    {
     "data": {
      "text/plain": [
       "OrderedDict([('linear.weight', tensor([[-0.0729]])),\n",
       "             ('linear.bias', tensor([-0.0900]))])"
      ]
     },
     "execution_count": 32,
     "metadata": {},
     "output_type": "execute_result"
    }
   ],
   "source": [
    "model = LR(1,1)\n",
    "model.state_dict() # Returns the weight and bias values as a dictionaryie. parameters of model"
   ]
  },
  {
   "cell_type": "code",
   "execution_count": 37,
   "metadata": {},
   "outputs": [
    {
     "name": "stdout",
     "output_type": "stream",
     "text": [
      "[Parameter containing:\n",
      "tensor([[0.5533]], requires_grad=True), Parameter containing:\n",
      "tensor([-0.2457], requires_grad=True)]\n"
     ]
    }
   ],
   "source": [
    "model.state_dict()['linear.weight'][0] = torch.tensor([0.5533])\n",
    "model.state_dict()['linear.bias'][0] = torch.tensor([-0.2457])\n",
    "# Can change parameter values\n",
    "\n",
    "print(list(model.parameters()))"
   ]
  },
  {
   "cell_type": "code",
   "execution_count": 11,
   "metadata": {},
   "outputs": [
    {
     "data": {
      "text/plain": [
       "tensor([-0.0797], grad_fn=<AddBackward0>)"
      ]
     },
     "execution_count": 11,
     "metadata": {},
     "output_type": "execute_result"
    }
   ],
   "source": [
    "x_val = torch.tensor([0.3])\n",
    "model.forward(x_val)"
   ]
  },
  {
   "cell_type": "code",
   "execution_count": 17,
   "metadata": {},
   "outputs": [
    {
     "data": {
      "text/plain": [
       "tensor([-1.], grad_fn=<SubBackward0>)"
      ]
     },
     "execution_count": 17,
     "metadata": {},
     "output_type": "execute_result"
    }
   ],
   "source": [
    "tsr_a = torch.tensor([4.0], requires_grad = True)\n",
    "tsr_b = torch.tensor([5.0])\n",
    "\n",
    "tsr_c = tsr_a + tsr_b\n",
    "tsr_c"
   ]
  }
 ],
 "metadata": {
  "kernelspec": {
   "display_name": "Python 3",
   "language": "python",
   "name": "python3"
  },
  "language_info": {
   "codemirror_mode": {
    "name": "ipython",
    "version": 3
   },
   "file_extension": ".py",
   "mimetype": "text/x-python",
   "name": "python",
   "nbconvert_exporter": "python",
   "pygments_lexer": "ipython3",
   "version": "3.8.0"
  }
 },
 "nbformat": 4,
 "nbformat_minor": 4
}
