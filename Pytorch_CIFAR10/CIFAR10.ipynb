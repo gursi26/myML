{
  "nbformat": 4,
  "nbformat_minor": 0,
  "metadata": {
    "colab": {
      "name": "CIFAR10.ipynb",
      "provenance": []
    },
    "kernelspec": {
      "name": "python3",
      "display_name": "Python 3"
    },
    "accelerator": "GPU"
  },
  "cells": [
    {
      "cell_type": "code",
      "metadata": {
        "id": "w3xM_vzpKS2T"
      },
      "source": [
        "import torch\n",
        "from torch import nn,optim\n",
        "from torch.utils.data import DataLoader \n",
        "from torchvision import datasets,transforms\n",
        "import matplotlib.pyplot as plt\n",
        "from statistics import mean"
      ],
      "execution_count": 88,
      "outputs": []
    },
    {
      "cell_type": "code",
      "metadata": {
        "colab": {
          "base_uri": "https://localhost:8080/"
        },
        "id": "Zu3D5S39MZxb",
        "outputId": "0026f33e-1ed2-412c-9750-12b88016a54c"
      },
      "source": [
        "dev = 'cuda:0' if torch.cuda.is_available() else 'cpu'\n",
        "print(dev)"
      ],
      "execution_count": 89,
      "outputs": [
        {
          "output_type": "stream",
          "text": [
            "cuda:0\n"
          ],
          "name": "stdout"
        }
      ]
    },
    {
      "cell_type": "code",
      "metadata": {
        "colab": {
          "base_uri": "https://localhost:8080/"
        },
        "id": "LHAtxRL7Lj4Z",
        "outputId": "83980f21-a8d5-4d5a-9dfc-5c1b270c139f"
      },
      "source": [
        "t = transforms.Compose([\n",
        "                        transforms.Resize(32),\n",
        "                        transforms.CenterCrop(32),\n",
        "                        transforms.ToTensor()\n",
        "])\n",
        "train_data = datasets.CIFAR10(root = './data', train = True, transform=t, download = True)\n",
        "temp = train_data.class_to_idx\n",
        "labelmap = {y:x for x,y in temp.items()}\n",
        "print(labelmap)"
      ],
      "execution_count": 90,
      "outputs": [
        {
          "output_type": "stream",
          "text": [
            "Files already downloaded and verified\n",
            "{0: 'airplane', 1: 'automobile', 2: 'bird', 3: 'cat', 4: 'deer', 5: 'dog', 6: 'frog', 7: 'horse', 8: 'ship', 9: 'truck'}\n"
          ],
          "name": "stdout"
        }
      ]
    },
    {
      "cell_type": "code",
      "metadata": {
        "id": "eY9aD1TmMqYK"
      },
      "source": [
        "class NET(nn.Module):\n",
        "\n",
        "  def __init__(self, out1, out2, n1, n2):\n",
        "    super(NET,self).__init__()\n",
        "\n",
        "    self.convblock1 = nn.Sequential(\n",
        "        nn.Conv2d(in_channels=3, out_channels=out1, kernel_size=(4,4), stride=(1,1), padding=2),\n",
        "        nn.BatchNorm2d(out1),\n",
        "        nn.ReLU(),\n",
        "        nn.MaxPool2d(kernel_size=(2,2))\n",
        "    )\n",
        "\n",
        "    self.convblock2 = nn.Sequential(\n",
        "        nn.Conv2d(in_channels=out1, out_channels=out2, kernel_size=(3,3), stride=(1,1), padding=1),\n",
        "        nn.BatchNorm2d(out2),\n",
        "        nn.ReLU(),\n",
        "    )\n",
        "\n",
        "    self.inshape = out2 * 16 * 16 \n",
        "\n",
        "    self.fc1 = nn.Sequential(\n",
        "        nn.Linear(in_features=self.inshape, out_features=n1),\n",
        "        nn.BatchNorm1d(n1),\n",
        "        nn.ReLU()\n",
        "    )\n",
        "\n",
        "    self.fc2 = nn.Sequential(\n",
        "        nn.Linear(in_features=n1, out_features=n2),\n",
        "        nn.BatchNorm1d(n2),\n",
        "        nn.ReLU()\n",
        "    )\n",
        "\n",
        "    self.out = nn.Linear(in_features=n2, out_features=10)\n",
        "\n",
        "  def forward(self,x):\n",
        "\n",
        "    x = self.convblock1(x)\n",
        "    x = self.convblock2(x)\n",
        "    #print(x.shape)\n",
        "    x = x.reshape((x.shape[0], x.shape[1] * x.shape[2] * x.shape[3]))\n",
        "\n",
        "    x = self.fc1(x)\n",
        "    x = self.fc2(x)\n",
        "    return self.out(x)"
      ],
      "execution_count": 91,
      "outputs": []
    },
    {
      "cell_type": "code",
      "metadata": {
        "colab": {
          "base_uri": "https://localhost:8080/"
        },
        "id": "66t_YY6oOe76",
        "outputId": "90956835-011a-493e-8604-4a5fc71ff7a7"
      },
      "source": [
        "model = NET(32,64,512,256)\n",
        "model.to(dev)"
      ],
      "execution_count": 92,
      "outputs": [
        {
          "output_type": "execute_result",
          "data": {
            "text/plain": [
              "NET(\n",
              "  (convblock1): Sequential(\n",
              "    (0): Conv2d(3, 32, kernel_size=(4, 4), stride=(1, 1), padding=(2, 2))\n",
              "    (1): BatchNorm2d(32, eps=1e-05, momentum=0.1, affine=True, track_running_stats=True)\n",
              "    (2): ReLU()\n",
              "    (3): MaxPool2d(kernel_size=(2, 2), stride=(2, 2), padding=0, dilation=1, ceil_mode=False)\n",
              "  )\n",
              "  (convblock2): Sequential(\n",
              "    (0): Conv2d(32, 64, kernel_size=(3, 3), stride=(1, 1), padding=(1, 1))\n",
              "    (1): BatchNorm2d(64, eps=1e-05, momentum=0.1, affine=True, track_running_stats=True)\n",
              "    (2): ReLU()\n",
              "  )\n",
              "  (fc1): Sequential(\n",
              "    (0): Linear(in_features=16384, out_features=512, bias=True)\n",
              "    (1): BatchNorm1d(512, eps=1e-05, momentum=0.1, affine=True, track_running_stats=True)\n",
              "    (2): ReLU()\n",
              "  )\n",
              "  (fc2): Sequential(\n",
              "    (0): Linear(in_features=512, out_features=256, bias=True)\n",
              "    (1): BatchNorm1d(256, eps=1e-05, momentum=0.1, affine=True, track_running_stats=True)\n",
              "    (2): ReLU()\n",
              "  )\n",
              "  (out): Linear(in_features=256, out_features=10, bias=True)\n",
              ")"
            ]
          },
          "metadata": {
            "tags": []
          },
          "execution_count": 92
        }
      ]
    },
    {
      "cell_type": "code",
      "metadata": {
        "colab": {
          "base_uri": "https://localhost:8080/"
        },
        "id": "G8IWxx3OSCIu",
        "outputId": "5e32df22-0498-4938-f359-ef969df509ae"
      },
      "source": [
        "batch_size = 100\n",
        "epochs = 20\n",
        "lr = 0.001\n",
        "momentum = 0.8\n",
        "dataset_size = len(train_data)\n",
        "show_every = 50\n",
        "\n",
        "loss_fn = nn.CrossEntropyLoss()\n",
        "opt = optim.SGD(model.parameters(), lr = lr, momentum = momentum)\n",
        "loader = DataLoader(dataset=train_data, batch_size=batch_size, shuffle=True)\n",
        "\n",
        "stats_dict = {'all_loss':[], 'mean_loss':[], 'acc':[]}\n",
        "\n",
        "print(f'{int(dataset_size/batch_size)} batches per epoch.')\n",
        "for epoch in range(epochs):\n",
        "\n",
        "  correct, incorrect, batch_counter = 0,0,0\n",
        "  temp_loss_list = []\n",
        "\n",
        "  for x,y in loader :\n",
        "\n",
        "    opt.zero_grad()\n",
        "    x,y = x.to(dev), y.to(dev)\n",
        "    yhat = model.forward(x)\n",
        "\n",
        "    for i in range(len(yhat)):\n",
        "      if torch.argmax(yhat[i]) == y[i]:\n",
        "        correct += 1\n",
        "      else :\n",
        "        incorrect += 1\n",
        "\n",
        "    loss = loss_fn(yhat,y)\n",
        "    temp_loss_list.append(loss.item())\n",
        "    stats_dict['all_loss'].append(loss.item())\n",
        "\n",
        "    loss.backward()\n",
        "    opt.step()\n",
        "\n",
        "    if batch_counter % show_every == 0 :\n",
        "      print(f'{batch_counter} --> ', end='', flush=True)\n",
        "\n",
        "    batch_counter += 1\n",
        "\n",
        "  meanloss = mean(temp_loss_list)\n",
        "  accuracy = (correct / (incorrect + correct)) * 100\n",
        "\n",
        "  stats_dict['mean_loss'].append(meanloss)\n",
        "  stats_dict['acc'].append(accuracy)\n",
        "\n",
        "  print()\n",
        "  print(f'Epoch : {epoch} | Loss : {meanloss} | Accuracy : {round(accuracy,3)}')\n",
        "  print('-' * 50)"
      ],
      "execution_count": 93,
      "outputs": [
        {
          "output_type": "stream",
          "text": [
            "500 batches per epoch.\n",
            "0 --> 50 --> 100 --> 150 --> 200 --> 250 --> 300 --> 350 --> 400 --> 450 --> \n",
            "Epoch : 0 | Loss : 1.4574523661136627 | Accuracy : 49.724\n",
            "--------------------------------------------------\n",
            "0 --> 50 --> 100 --> 150 --> 200 --> 250 --> 300 --> 350 --> 400 --> 450 --> \n",
            "Epoch : 1 | Loss : 1.052418722987175 | Accuracy : 64.342\n",
            "--------------------------------------------------\n",
            "0 --> 50 --> 100 --> 150 --> 200 --> 250 --> 300 --> 350 --> 400 --> 450 --> \n",
            "Epoch : 2 | Loss : 0.8358187985420227 | Accuracy : 72.342\n",
            "--------------------------------------------------\n",
            "0 --> 50 --> 100 --> 150 --> 200 --> 250 --> 300 --> 350 --> 400 --> 450 --> \n",
            "Epoch : 3 | Loss : 0.6638343816995621 | Accuracy : 79.176\n",
            "--------------------------------------------------\n",
            "0 --> 50 --> 100 --> 150 --> 200 --> 250 --> 300 --> 350 --> 400 --> 450 --> \n",
            "Epoch : 4 | Loss : 0.5117732190489769 | Accuracy : 85.136\n",
            "--------------------------------------------------\n",
            "0 --> 50 --> 100 --> 150 --> 200 --> 250 --> 300 --> 350 --> 400 --> 450 --> \n",
            "Epoch : 5 | Loss : 0.372984099060297 | Accuracy : 90.5\n",
            "--------------------------------------------------\n",
            "0 --> 50 --> 100 --> 150 --> 200 --> 250 --> 300 --> 350 --> 400 --> 450 --> \n",
            "Epoch : 6 | Loss : 0.25722191977500913 | Accuracy : 94.7\n",
            "--------------------------------------------------\n",
            "0 --> 50 --> 100 --> 150 --> 200 --> 250 --> 300 --> 350 --> 400 --> 450 --> \n",
            "Epoch : 7 | Loss : 0.16872708398103714 | Accuracy : 97.446\n",
            "--------------------------------------------------\n",
            "0 --> 50 --> 100 --> 150 --> 200 --> 250 --> 300 --> 350 --> 400 --> 450 --> \n",
            "Epoch : 8 | Loss : 0.10990303207933903 | Accuracy : 98.918\n",
            "--------------------------------------------------\n",
            "0 --> 50 --> 100 --> 150 --> 200 --> 250 --> 300 --> 350 --> 400 --> 450 --> \n",
            "Epoch : 9 | Loss : 0.07145327285677194 | Accuracy : 99.55\n",
            "--------------------------------------------------\n",
            "0 --> 50 --> 100 --> 150 --> 200 --> 250 --> 300 --> 350 --> 400 --> 450 --> \n",
            "Epoch : 10 | Loss : 0.0492038350738585 | Accuracy : 99.806\n",
            "--------------------------------------------------\n",
            "0 --> 50 --> 100 --> 150 --> 200 --> 250 --> 300 --> 350 --> 400 --> 450 --> \n",
            "Epoch : 11 | Loss : 0.03632287337630987 | Accuracy : 99.892\n",
            "--------------------------------------------------\n",
            "0 --> 50 --> 100 --> 150 --> 200 --> 250 --> 300 --> 350 --> 400 --> 450 --> \n",
            "Epoch : 12 | Loss : 0.02708958308584988 | Accuracy : 99.97\n",
            "--------------------------------------------------\n",
            "0 --> 50 --> 100 --> 150 --> 200 --> 250 --> 300 --> 350 --> 400 --> 450 --> \n",
            "Epoch : 13 | Loss : 0.021686615554615856 | Accuracy : 99.972\n",
            "--------------------------------------------------\n",
            "0 --> 50 --> 100 --> 150 --> 200 --> 250 --> 300 --> 350 --> 400 --> 450 --> \n",
            "Epoch : 14 | Loss : 0.01808809051848948 | Accuracy : 99.972\n",
            "--------------------------------------------------\n",
            "0 --> 50 --> 100 --> 150 --> 200 --> 250 --> 300 --> 350 --> 400 --> 450 --> \n",
            "Epoch : 15 | Loss : 0.015231985809281468 | Accuracy : 99.978\n",
            "--------------------------------------------------\n",
            "0 --> 50 --> 100 --> 150 --> 200 --> 250 --> 300 --> 350 --> 400 --> 450 --> \n",
            "Epoch : 16 | Loss : 0.013104975215159357 | Accuracy : 99.982\n",
            "--------------------------------------------------\n",
            "0 --> 50 --> 100 --> 150 --> 200 --> 250 --> 300 --> 350 --> 400 --> 450 --> \n",
            "Epoch : 17 | Loss : 0.01150054252706468 | Accuracy : 99.998\n",
            "--------------------------------------------------\n",
            "0 --> 50 --> 100 --> 150 --> 200 --> 250 --> 300 --> 350 --> 400 --> 450 --> \n",
            "Epoch : 18 | Loss : 0.010200194520875812 | Accuracy : 99.996\n",
            "--------------------------------------------------\n",
            "0 --> 50 --> 100 --> 150 --> 200 --> 250 --> 300 --> 350 --> 400 --> 450 --> \n",
            "Epoch : 19 | Loss : 0.00890680271293968 | Accuracy : 99.998\n",
            "--------------------------------------------------\n"
          ],
          "name": "stdout"
        }
      ]
    },
    {
      "cell_type": "code",
      "metadata": {
        "id": "ZcWrMuXlWgaz"
      },
      "source": [
        "def plot_stats(stat_dict, msges, ax):\n",
        "  for i in zip(stat_dict,msges,ax):\n",
        "    i[2].plot(stat_dict[i[0]], linewidth = 3)\n",
        "    i[2].set_title(i[1])\n",
        "    i[2].grid(True)"
      ],
      "execution_count": 94,
      "outputs": []
    },
    {
      "cell_type": "code",
      "metadata": {
        "colab": {
          "base_uri": "https://localhost:8080/",
          "height": 444
        },
        "id": "hwVu2Z2vYKOI",
        "outputId": "169e2122-4be6-41b0-e487-ad32781ec2ac"
      },
      "source": [
        "fig,ax = plt.subplots(nrows = 1, ncols = 3, figsize = (22,7))\n",
        "ax = ax.flatten()\n",
        "plot_stats(stats_dict, ['All loss','Mean loss per epoch','Accuracy'],ax)"
      ],
      "execution_count": 95,
      "outputs": [
        {
          "output_type": "display_data",
          "data": {
            "image/png": "[encoded data removed]",
            "text/plain": [
              "<Figure size 1584x504 with 3 Axes>"
            ]
          },
          "metadata": {
            "tags": [],
            "needs_background": "light"
          }
        }
      ]
    }
  ]
}