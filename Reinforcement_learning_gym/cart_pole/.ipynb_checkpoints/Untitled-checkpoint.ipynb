{
 "cells": [
  {
   "cell_type": "code",
   "execution_count": 1,
   "metadata": {},
   "outputs": [],
   "source": [
    "import gym, random, os, sys\n",
    "import numpy as np\n",
    "from statistics import mean, median\n",
    "from collections import Counter\n",
    "\n",
    "from keras import Input\n",
    "from keras.models import Sequential\n",
    "from keras.layers import Dropout, Dense\n",
    "\n",
    "current_path = os.path.dirname(os.path.abspath(sys.argv[0]))"
   ]
  },
  {
   "cell_type": "code",
   "execution_count": 2,
   "metadata": {},
   "outputs": [],
   "source": [
    "env = gym.make('CartPole-v0')\n",
    "env.reset()\n",
    "\n",
    "goal_steps = 500\n",
    "# Number of frames considered to be a win\n",
    "score_req = 50\n",
    "# Score requirement for a random game to be used for training\n",
    "initial_games = 10000\n",
    "# These number of random games will be carried out\n",
    "\n",
    "# Random games just for visualizing\n",
    "def random_games():\n",
    "\tfor episode in range(5):\n",
    "\t\tenv.reset()\n",
    "\t\tfor i in range(goal_steps):\n",
    "\t\t\tobservation, reward, done, info = env.step(env.action_space.sample())\n",
    "\t\t\tenv.render()\n",
    "\tenv.close()"
   ]
  },
  {
   "cell_type": "code",
   "execution_count": 3,
   "metadata": {},
   "outputs": [],
   "source": [
    "# Creating the initial population of training data for neural network\n",
    "def initial_population():\n",
    "\ttraining_data = []\n",
    "\tscores = []\n",
    "\taccepted_scores = []\n",
    "\n",
    "\tfor var1 in range(initial_games):\n",
    "\t\tscore = 0\n",
    "\t\tgame_memory = []\n",
    "\t\tprevious_observation = []\n",
    "\n",
    "\t\tfor var2 in range(goal_steps):\n",
    "\t\t\taction = random.randrange(0,2)\n",
    "\t\t\tobservation, reward, done, info = env.step(action)\n",
    "\n",
    "\t\t\tif len(previous_observation) > 0 :\n",
    "\t\t\t\tgame_memory.append([list(previous_observation), action])\n",
    "\n",
    "\t\t\tprevious_observation = observation\n",
    "\t\t\tscore += reward\n",
    "\n",
    "\t\t\tif done :\n",
    "\t\t\t\tbreak\n",
    "\n",
    "\t\tif score >= score_req :\n",
    "\t\t\taccepted_scores.append(score)\n",
    "\t\t\t\n",
    "\t\t\tfor data in game_memory : \t\n",
    "\t\t\t\tif data[1] == 1 :\n",
    "\t\t\t\t\toutput = [0,1]\n",
    "\t\t\t\telif data[1] == 0 :\n",
    "\t\t\t\t\toutput = [1,0]\n",
    "\n",
    "\t\t\t\ttraining_data.append([data[0], output])\n",
    "\n",
    "\t\tenv.reset()\n",
    "\t\tscores.append(score)\n",
    "\n",
    "\ttraining_data_to_save = np.array(training_data)\n",
    "\tnp.save(file = current_path + '/training_data.npy', arr = training_data_to_save)\n",
    "\n",
    "\tprint('Average accepted_scores : ', mean(accepted_scores))\n",
    "\tprint('Median accepted_scores : ', median(accepted_scores))\n",
    "\tprint(Counter(accepted_scores))\n",
    "\n",
    "\treturn training_data[0]"
   ]
  },
  {
   "cell_type": "code",
   "execution_count": 4,
   "metadata": {},
   "outputs": [],
   "source": [
    "def neural_net(input_size):\n",
    "\tmodel = Sequential()\n",
    "\n",
    "\tmodel.add(Input(shape = (input_size, 1)))\n",
    "\n",
    "\tmodel.add(Dense(128, activation = 'relu'))\n",
    "\tmodel.add(Dropout(0.2))\n",
    "\n",
    "\tmodel.add(Dense(256, activation = 'relu'))\n",
    "\tmodel.add(Dropout(0.2))\n",
    "\n",
    "\tmodel.add(Dense(512, activation = 'relu'))\n",
    "\tmodel.add(Dropout(0.2))\n",
    "\n",
    "\tmodel.add(Dense(256, activation = 'relu'))\n",
    "\tmodel.add(Dropout(0.2))\n",
    "\n",
    "\tmodel.add(Dense(128, activation = 'relu'))\n",
    "\tmodel.add(Dropout(0.2))\n",
    "\n",
    "\tmodel.add(Dense(2, activation = 'softmax'))\n",
    "\n",
    "\tmodel.compile(optimizer = 'adam', loss = 'categorical_crossentropy', metrics = ['accuracy'])\n",
    "\tprint(model.summary())\n",
    "\n",
    "\treturn model"
   ]
  },
  {
   "cell_type": "code",
   "execution_count": 5,
   "metadata": {},
   "outputs": [],
   "source": [
    "def train_model(training_data, model = False):\n",
    "\tx_vals = np.array(training_data[0])\n",
    "\ty_vals = np.array(training_data[1])\n",
    "\n",
    "\tif not model :\n",
    "\t\tmodel = neural_net(input_size = len(x_vals[0]))\n",
    "\n",
    "\t#model.fit(x_vals, y_vals, epochs = 5, verbose = 1)\n",
    "\tprint(x_vals)\n",
    "\tprint(y_vals)\n",
    "\n",
    "\treturn model"
   ]
  },
  {
   "cell_type": "code",
   "execution_count": 7,
   "metadata": {},
   "outputs": [
    {
     "name": "stdout",
     "output_type": "stream",
     "text": [
      "Average accepted_scores :  60.29639889196676\n",
      "Median accepted_scores :  57.0\n",
      "Counter({50.0: 36, 51.0: 34, 53.0: 30, 54.0: 21, 52.0: 21, 57.0: 19, 55.0: 18, 58.0: 16, 63.0: 13, 56.0: 13, 59.0: 13, 60.0: 12, 64.0: 12, 65.0: 11, 62.0: 10, 74.0: 9, 67.0: 7, 69.0: 6, 61.0: 6, 66.0: 5, 70.0: 5, 73.0: 4, 82.0: 4, 75.0: 4, 71.0: 4, 85.0: 3, 83.0: 3, 79.0: 2, 78.0: 2, 72.0: 2, 86.0: 1, 77.0: 1, 97.0: 1, 99.0: 1, 84.0: 1, 103.0: 1, 102.0: 1, 89.0: 1, 116.0: 1, 128.0: 1, 106.0: 1, 81.0: 1, 90.0: 1, 80.0: 1, 68.0: 1, 112.0: 1})\n"
     ]
    },
    {
     "ename": "AttributeError",
     "evalue": "'list' object has no attribute 'shape'",
     "output_type": "error",
     "traceback": [
      "\u001b[0;31m---------------------------------------------------------------------------\u001b[0m",
      "\u001b[0;31mAttributeError\u001b[0m                            Traceback (most recent call last)",
      "\u001b[0;32m<ipython-input-7-c6af435d1708>\u001b[0m in \u001b[0;36m<module>\u001b[0;34m\u001b[0m\n\u001b[0;32m----> 1\u001b[0;31m \u001b[0minitial_population\u001b[0m\u001b[0;34m(\u001b[0m\u001b[0;34m)\u001b[0m\u001b[0;34m.\u001b[0m\u001b[0mshape\u001b[0m\u001b[0;34m\u001b[0m\u001b[0;34m\u001b[0m\u001b[0m\n\u001b[0m",
      "\u001b[0;31mAttributeError\u001b[0m: 'list' object has no attribute 'shape'"
     ]
    }
   ],
   "source": [
    "initial_population().shape"
   ]
  }
 ],
 "metadata": {
  "kernelspec": {
   "display_name": "Python 3",
   "language": "python",
   "name": "python3"
  },
  "language_info": {
   "codemirror_mode": {
    "name": "ipython",
    "version": 3
   },
   "file_extension": ".py",
   "mimetype": "text/x-python",
   "name": "python",
   "nbconvert_exporter": "python",
   "pygments_lexer": "ipython3",
   "version": "3.8.0"
  }
 },
 "nbformat": 4,
 "nbformat_minor": 4
}
