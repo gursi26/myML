{
 "metadata": {
  "language_info": {
   "codemirror_mode": {
    "name": "ipython",
    "version": 3
   },
   "file_extension": ".py",
   "mimetype": "text/x-python",
   "name": "python",
   "nbconvert_exporter": "python",
   "pygments_lexer": "ipython3",
   "version": "3.8.5-final"
  },
  "orig_nbformat": 2,
  "kernelspec": {
   "name": "kerasflow",
   "display_name": "Kerasflow",
   "language": "python"
  }
 },
 "nbformat": 4,
 "nbformat_minor": 2,
 "cells": [
  {
   "cell_type": "code",
   "execution_count": 143,
   "metadata": {},
   "outputs": [],
   "source": [
    "import tensorflow as tf\n",
    "import matplotlib.pyplot as plt\n",
    "import numpy as np\n",
    "\n",
    "tf.compat.v1.disable_eager_execution()"
   ]
  },
  {
   "cell_type": "code",
   "execution_count": 144,
   "metadata": {},
   "outputs": [
    {
     "output_type": "stream",
     "name": "stdout",
     "text": [
      "X shape :  (60000, 28, 28, 1)\n"
     ]
    }
   ],
   "source": [
    "train, test = tf.keras.datasets.mnist.load_data()\n",
    "\n",
    "train_x, train_y = train\n",
    "train_x = np.expand_dims(train_x.astype(np.float32), axis = 3)\n",
    "print('X shape : ', train_x.shape)"
   ]
  },
  {
   "cell_type": "code",
   "execution_count": 145,
   "metadata": {},
   "outputs": [],
   "source": [
    "num_input = 784\n",
    "num_classes = 10\n",
    "\n",
    "X = tf.compat.v1.placeholder(tf.float32, [None, 28,28,1])\n",
    "y = tf.compat.v1.placeholder(tf.float32, [None, num_classes])"
   ]
  },
  {
   "cell_type": "code",
   "execution_count": 146,
   "metadata": {},
   "outputs": [],
   "source": [
    "def conv2d(x, w, b, strides = 1):\n",
    "    x = tf.nn.conv2d(x, w, strides = [1,strides,strides,1], padding = 'SAME')\n",
    "    x = tf.nn.bias_add(x,b)\n",
    "    return tf.nn.relu(x)\n",
    "\n",
    "def maxpool2d(x, k=2, s=1):\n",
    "    x = tf.nn.max_pool(x, ksize = [1,k,k,1], strides = [1,s,s,1], padding = 'SAME')\n",
    "    return x\n",
    "\n",
    "def net(x, weights, biases):\n",
    "    x = conv2d(x, weights[0], biases[0])\n",
    "    x = maxpool2d(x)\n",
    "\n",
    "    x = conv2d(x, weights[1], biases[1])\n",
    "    x = maxpool2d(x)\n",
    "    print(x.shape)\n",
    "\n",
    "    x = tf.compat.v1.layers.flatten(x)\n",
    "\n",
    "    x = tf.add(tf.matmul(x, weights[2]), biases[2])\n",
    "    x = tf.nn.relu(x)\n",
    "\n",
    "    out = tf.add(tf.matmul(x, weights[3]), biases[3])\n",
    "\n",
    "    return out"
   ]
  },
  {
   "cell_type": "code",
   "execution_count": 147,
   "metadata": {},
   "outputs": [],
   "source": [
    "fc_input_shape = 28\n",
    "\n",
    "weights = [\n",
    "    # [filter width, filter height, in_channels, out_channels]\n",
    "    tf.Variable(tf.random.normal([5,5,1,32])),\n",
    "    tf.Variable(tf.random.normal([5,5,32,64])),\n",
    "\n",
    "    # input shape (height,width,channels), out_neurons\n",
    "    tf.Variable(tf.random.normal([fc_input_shape * fc_input_shape * 64, 1024])),\n",
    "    tf.Variable(tf.random.normal([1024,num_classes]))\n",
    "]\n",
    "\n",
    "biases = [\n",
    "    tf.Variable(tf.random.normal([32])),\n",
    "    tf.Variable(tf.random.normal([64])),\n",
    "    tf.Variable(tf.random.normal([1024])),\n",
    "    tf.Variable(tf.random.normal([num_classes]))\n",
    "]\n",
    "temp_arr = np.array([weights,biases])\n",
    "temp_arr = temp_arr.reshape((temp_arr.shape[0] * temp_arr.shape[1]))\n",
    "temp_arr = list(temp_arr)\n"
   ]
  },
  {
   "cell_type": "code",
   "execution_count": 148,
   "metadata": {},
   "outputs": [
    {
     "output_type": "stream",
     "name": "stdout",
     "text": [
      "(None, 28, 28, 64)\n"
     ]
    },
    {
     "output_type": "error",
     "ename": "ValueError",
     "evalue": "No gradients provided for any variable: ['Variable_170:0', 'Variable_171:0', 'Variable_172:0', 'Variable_173:0', 'Variable_174:0', 'Variable_175:0', 'Variable_176:0', 'Variable_177:0'].",
     "traceback": [
      "\u001b[0;31m---------------------------------------------------------------------------\u001b[0m",
      "\u001b[0;31mValueError\u001b[0m                                Traceback (most recent call last)",
      "\u001b[0;32m<ipython-input-148-1d6e241f975d>\u001b[0m in \u001b[0;36m<module>\u001b[0;34m\u001b[0m\n\u001b[1;32m     10\u001b[0m     \u001b[0mparams\u001b[0m \u001b[0;34m=\u001b[0m \u001b[0mtemp_arr\u001b[0m\u001b[0;34m\u001b[0m\u001b[0;34m\u001b[0m\u001b[0m\n\u001b[1;32m     11\u001b[0m     \u001b[0mgrads\u001b[0m \u001b[0;34m=\u001b[0m \u001b[0mtape\u001b[0m\u001b[0;34m.\u001b[0m\u001b[0mgradient\u001b[0m\u001b[0;34m(\u001b[0m\u001b[0mloss\u001b[0m\u001b[0;34m,\u001b[0m\u001b[0mparams\u001b[0m\u001b[0;34m)\u001b[0m\u001b[0;34m\u001b[0m\u001b[0;34m\u001b[0m\u001b[0m\n\u001b[0;32m---> 12\u001b[0;31m     \u001b[0mopt\u001b[0m\u001b[0;34m.\u001b[0m\u001b[0mapply_gradients\u001b[0m\u001b[0;34m(\u001b[0m\u001b[0mzip\u001b[0m\u001b[0;34m(\u001b[0m\u001b[0mgrads\u001b[0m\u001b[0;34m,\u001b[0m\u001b[0mparams\u001b[0m\u001b[0;34m)\u001b[0m\u001b[0;34m)\u001b[0m\u001b[0;34m\u001b[0m\u001b[0;34m\u001b[0m\u001b[0m\n\u001b[0m\u001b[1;32m     13\u001b[0m \u001b[0;34m\u001b[0m\u001b[0m\n\u001b[1;32m     14\u001b[0m \u001b[0;31m#step = opt.minimize(loss, [weights,biases])\u001b[0m\u001b[0;34m\u001b[0m\u001b[0;34m\u001b[0m\u001b[0;34m\u001b[0m\u001b[0m\n",
      "\u001b[0;32m~/opt/anaconda3/envs/Kerasflow/lib/python3.8/site-packages/tensorflow/python/keras/optimizer_v2/optimizer_v2.py\u001b[0m in \u001b[0;36mapply_gradients\u001b[0;34m(self, grads_and_vars, name, experimental_aggregate_gradients)\u001b[0m\n\u001b[1;32m    596\u001b[0m       \u001b[0mRuntimeError\u001b[0m\u001b[0;34m:\u001b[0m \u001b[0mIf\u001b[0m \u001b[0mcalled\u001b[0m \u001b[0;32min\u001b[0m \u001b[0ma\u001b[0m \u001b[0mcross\u001b[0m\u001b[0;34m-\u001b[0m\u001b[0mreplica\u001b[0m \u001b[0mcontext\u001b[0m\u001b[0;34m.\u001b[0m\u001b[0;34m\u001b[0m\u001b[0;34m\u001b[0m\u001b[0m\n\u001b[1;32m    597\u001b[0m     \"\"\"\n\u001b[0;32m--> 598\u001b[0;31m     \u001b[0mgrads_and_vars\u001b[0m \u001b[0;34m=\u001b[0m \u001b[0moptimizer_utils\u001b[0m\u001b[0;34m.\u001b[0m\u001b[0mfilter_empty_gradients\u001b[0m\u001b[0;34m(\u001b[0m\u001b[0mgrads_and_vars\u001b[0m\u001b[0;34m)\u001b[0m\u001b[0;34m\u001b[0m\u001b[0;34m\u001b[0m\u001b[0m\n\u001b[0m\u001b[1;32m    599\u001b[0m     \u001b[0mvar_list\u001b[0m \u001b[0;34m=\u001b[0m \u001b[0;34m[\u001b[0m\u001b[0mv\u001b[0m \u001b[0;32mfor\u001b[0m \u001b[0;34m(\u001b[0m\u001b[0m_\u001b[0m\u001b[0;34m,\u001b[0m \u001b[0mv\u001b[0m\u001b[0;34m)\u001b[0m \u001b[0;32min\u001b[0m \u001b[0mgrads_and_vars\u001b[0m\u001b[0;34m]\u001b[0m\u001b[0;34m\u001b[0m\u001b[0;34m\u001b[0m\u001b[0m\n\u001b[1;32m    600\u001b[0m \u001b[0;34m\u001b[0m\u001b[0m\n",
      "\u001b[0;32m~/opt/anaconda3/envs/Kerasflow/lib/python3.8/site-packages/tensorflow/python/keras/optimizer_v2/utils.py\u001b[0m in \u001b[0;36mfilter_empty_gradients\u001b[0;34m(grads_and_vars)\u001b[0m\n\u001b[1;32m     76\u001b[0m \u001b[0;34m\u001b[0m\u001b[0m\n\u001b[1;32m     77\u001b[0m   \u001b[0;32mif\u001b[0m \u001b[0;32mnot\u001b[0m \u001b[0mfiltered\u001b[0m\u001b[0;34m:\u001b[0m\u001b[0;34m\u001b[0m\u001b[0;34m\u001b[0m\u001b[0m\n\u001b[0;32m---> 78\u001b[0;31m     raise ValueError(\"No gradients provided for any variable: %s.\" %\n\u001b[0m\u001b[1;32m     79\u001b[0m                      ([v.name for _, v in grads_and_vars],))\n\u001b[1;32m     80\u001b[0m   \u001b[0;32mif\u001b[0m \u001b[0mvars_with_empty_grads\u001b[0m\u001b[0;34m:\u001b[0m\u001b[0;34m\u001b[0m\u001b[0;34m\u001b[0m\u001b[0m\n",
      "\u001b[0;31mValueError\u001b[0m: No gradients provided for any variable: ['Variable_170:0', 'Variable_171:0', 'Variable_172:0', 'Variable_173:0', 'Variable_174:0', 'Variable_175:0', 'Variable_176:0', 'Variable_177:0']."
     ]
    }
   ],
   "source": [
    "conv_net = net(X, weights, biases)\n",
    "preds = tf.nn.softmax(conv_net)\n",
    "opt = tf.optimizers.Adam(0.001)\n",
    "\n",
    "#loss_op = tf.reduce_mean(tf.nn.softmax_cross_entropy_with_logits(logits = conv_net, labels = y))\n",
    "loss_op = tf.keras.losses.CategoricalCrossentropy()\n",
    "\n",
    "with tf.GradientTape() as tape : \n",
    "    loss = loss_op(preds,y)\n",
    "    params = temp_arr\n",
    "    grads = tape.gradient(loss,params)\n",
    "    opt.apply_gradients(zip(grads,params))\n",
    "\n",
    "#step = opt.minimize(loss, [weights,biases])"
   ]
  }
 ]
}