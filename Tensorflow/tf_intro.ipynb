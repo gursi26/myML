{
 "metadata": {
  "language_info": {
   "codemirror_mode": {
    "name": "ipython",
    "version": 3
   },
   "file_extension": ".py",
   "mimetype": "text/x-python",
   "name": "python",
   "nbconvert_exporter": "python",
   "pygments_lexer": "ipython3",
   "version": "3.8.5-final"
  },
  "orig_nbformat": 2,
  "kernelspec": {
   "name": "kerasflow",
   "display_name": "Kerasflow",
   "language": "python"
  }
 },
 "nbformat": 4,
 "nbformat_minor": 2,
 "cells": [
  {
   "cell_type": "code",
   "execution_count": 1,
   "metadata": {},
   "outputs": [],
   "source": [
    "import tensorflow as tf"
   ]
  },
  {
   "cell_type": "code",
   "execution_count": 16,
   "metadata": {},
   "outputs": [
    {
     "output_type": "stream",
     "name": "stdout",
     "text": [
      "()\n(1,)\n"
     ]
    }
   ],
   "source": [
    "a = tf.constant(5, name = 'a_const')\n",
    "b = tf.constant(7, name = 'b_const')\n",
    "c = tf.constant([9], name = 'c_const')\n",
    "\n",
    "print(a.shape)\n",
    "print(c.shape)"
   ]
  },
  {
   "cell_type": "code",
   "execution_count": 17,
   "metadata": {},
   "outputs": [
    {
     "output_type": "execute_result",
     "data": {
      "text/plain": [
       "9"
      ]
     },
     "metadata": {},
     "execution_count": 17
    }
   ],
   "source": [
    "c.numpy()[0]"
   ]
  },
  {
   "cell_type": "code",
   "execution_count": 20,
   "metadata": {},
   "outputs": [
    {
     "output_type": "stream",
     "name": "stdout",
     "text": [
      "12\n"
     ]
    }
   ],
   "source": [
    "def add(a,b):\n",
    "    c = tf.add(a,b)\n",
    "    return c\n",
    "\n",
    "output = add(a,b)\n",
    "print(output.numpy())"
   ]
  },
  {
   "cell_type": "code",
   "execution_count": 21,
   "metadata": {},
   "outputs": [
    {
     "output_type": "stream",
     "name": "stdout",
     "text": [
      "Scalar (1 entry):\n tf.Tensor(2, shape=(), dtype=int32) \n\nVector (3 entries) :\n tf.Tensor([5 6 2], shape=(3,), dtype=int32) \n\nMatrix (3x3 entries):\n tf.Tensor(\n[[1 2 3]\n [2 3 4]\n [3 4 5]], shape=(3, 3), dtype=int32) \n\nTensor (3x3x3 entries) :\n tf.Tensor(\n[[[ 1  2  3]\n  [ 2  3  4]\n  [ 3  4  5]]\n\n [[ 4  5  6]\n  [ 5  6  7]\n  [ 6  7  8]]\n\n [[ 7  8  9]\n  [ 8  9 10]\n  [ 9 10 11]]], shape=(3, 3, 3), dtype=int32) \n\n"
     ]
    }
   ],
   "source": [
    "Scalar = tf.constant(2)\n",
    "Vector = tf.constant([5,6,2])\n",
    "Matrix = tf.constant([[1,2,3],[2,3,4],[3,4,5]])\n",
    "Tensor = tf.constant( [ [[1,2,3],[2,3,4],[3,4,5]] , [[4,5,6],[5,6,7],[6,7,8]] , [[7,8,9],[8,9,10],[9,10,11]] ] )\n",
    "\n",
    "print (\"Scalar (1 entry):\\n %s \\n\" % Scalar)\n",
    "\n",
    "print (\"Vector (3 entries) :\\n %s \\n\" % Vector)\n",
    "\n",
    "print (\"Matrix (3x3 entries):\\n %s \\n\" % Matrix)\n",
    "\n",
    "print (\"Tensor (3x3x3 entries) :\\n %s \\n\" % Tensor)"
   ]
  },
  {
   "source": [
    "## tf.matmul for matrices, tf.multiply for scalars"
   ],
   "cell_type": "markdown",
   "metadata": {}
  },
  {
   "cell_type": "code",
   "execution_count": 28,
   "metadata": {},
   "outputs": [
    {
     "output_type": "stream",
     "name": "stdout",
     "text": [
      "[[80 72]\n [95 85]]\n"
     ]
    }
   ],
   "source": [
    "a1 = tf.constant([[5,6],[6,7]])\n",
    "b1 = tf.constant([[10,6],[5,7]])\n",
    "\n",
    "def multiply(a,b):\n",
    "    c = tf.matmul(a,b)\n",
    "    return c\n",
    "\n",
    "result = multiply(a1,b1)\n",
    "print(result.numpy())"
   ]
  },
  {
   "cell_type": "code",
   "execution_count": 85,
   "metadata": {},
   "outputs": [
    {
     "output_type": "stream",
     "name": "stdout",
     "text": [
      "tf.Tensor(6, shape=(), dtype=int32)\n"
     ]
    }
   ],
   "source": [
    "varA = tf.Variable(5)\n",
    "varA = tf.add(varA,1)\n",
    "print(varA)"
   ]
  }
 ]
}